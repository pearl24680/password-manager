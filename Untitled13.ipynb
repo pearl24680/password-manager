{
  "nbformat": 4,
  "nbformat_minor": 0,
  "metadata": {
    "colab": {
      "provenance": []
    },
    "kernelspec": {
      "name": "python3",
      "display_name": "Python 3"
    },
    "language_info": {
      "name": "python"
    }
  },
  "cells": [
    {
      "cell_type": "code",
      "source": [
        "pwd = input (\"What is the master password? \")\n",
        "\n",
        "\n",
        "def view():\n",
        "   pass\n",
        "\n",
        "\n",
        "def add():\n",
        "    # Add the code you want to execute within the 'add' function here.\n",
        "    # For example:\n",
        "    new_password = input(\"Enter the new password: \")\n",
        "    print(\"New password added.\")\n",
        "\n",
        "\n",
        "while True:\n",
        "    mode = input(\n",
        "        \"Would you like to add a new password or view existing ones (view, add), press q to quit? \").lower()\n",
        "    if mode == \"q\":\n",
        "        break\n",
        "\n",
        "    if mode == \"view\":\n",
        "        view()\n",
        "    elif mode == \"add\":\n",
        "        add()\n",
        "    else:\n",
        "        print(\"Invalid mode.\")\n",
        "        continue"
      ],
      "metadata": {
        "colab": {
          "base_uri": "https://localhost:8080/"
        },
        "id": "MvPYHT1voErF",
        "outputId": "279cef9b-0af3-40ae-851f-b1a2ea91e05b"
      },
      "execution_count": 15,
      "outputs": [
        {
          "name": "stdout",
          "output_type": "stream",
          "text": [
            "What is the master password? peal\n",
            "Would you like to add a new password or view existing ones (view, add), press q to quit? add\n",
            "Enter the new password: har\n",
            "New password added.\n",
            "Would you like to add a new password or view existing ones (view, add), press q to quit? view\n",
            "Would you like to add a new password or view existing ones (view, add), press q to quit? q\n"
          ]
        }
      ]
    }
  ]
}